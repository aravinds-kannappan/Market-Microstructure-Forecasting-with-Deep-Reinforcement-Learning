{
 "cells": [
  {
   "cell_type": "markdown",
   "id": "91a741fa",
   "metadata": {},
   "source": [
    "# LOB Forecasting + RL Demo"
   ]
  },
  {
   "cell_type": "code",
   "execution_count": null,
   "id": "ebc67e6b",
   "metadata": {},
   "outputs": [],
   "source": [
    "import numpy as np, pandas as pd\n",
    "from src.data_loader import LOBDataLoader\n",
    "from src.models.baseline import Baselines\n",
    "from src.backtester import Backtester\n",
    "# Optional PPO\n",
    "try:\n",
    "    from src.rl.train_agent import train_ppo_agent\n",
    "except Exception:\n",
    "    train_ppo_agent = None\n",
    "\n",
    "# Load sample (replace with FI-2010 once downloaded to data/)\n",
    "loader = LOBDataLoader(\"data/LOB_sample.csv\")\n",
    "loader.load_data(); loader.compute_features(); loader.label_data(horizon=10)\n",
    "df = loader.df\n",
    "features = df[[\"spread\",\"mid_price\",\"ofi\",\"depth_imb\",\"rolling_vol\"]]\n",
    "labels = df[\"label\"]; mid_prices = df[\"mid_price\"]\n",
    "\n",
    "# Baseline\n",
    "bl = Baselines()\n",
    "res = bl.train_logreg(features, labels, mid_prices)\n",
    "print(f\"LogReg Acc={res.acc:.4f} F1={res.f1:.4f} Sharpe={res.sharpe:.4f}\")\n",
    "\n",
    "# Backtest baseline signals\n",
    "bt = Backtester()\n",
    "eq = bt.run(mid_prices.loc[res.preds.index], res.preds)\n",
    "print(bt.compute_metrics())\n",
    "\n",
    "# PPO (optional - comment out if sb3 not installed)\n",
    "# if train_ppo_agent is not None:\n",
    "#     model = train_ppo_agent(features.values.astype(np.float32), mid_prices.values, preds=res.preds.values, total_timesteps=5000)\n",
    "#     model.save(\"ppo_lob_agent.zip\")\n"
   ]
  }
 ],
 "metadata": {},
 "nbformat": 4,
 "nbformat_minor": 5
}
